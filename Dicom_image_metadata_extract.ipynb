{
 "cells": [
  {
   "cell_type": "code",
   "execution_count": 92,
   "metadata": {},
   "outputs": [],
   "source": [
    "import os\n",
    "import pydicom\n",
    "\n",
    "\n",
    "#The .dcm dicon files are read \n",
    "ds1 = pydicom.dcmread(\"ttfm.dcm\")\n",
    "\n",
    "#Parsing the FileDataSet into a String\n",
    "ds1=str(ds1)\n",
    "outf=open(\"Output1.txt\",\"w\")\n",
    "outf.write(ds1)\n",
    "outf.close()\n",
    "\n",
    "#The aforementioned actions are repeated i.e extracting .dcm file\n",
    "ds2 = pydicom.dcmread(\"bmode.dcm\")\n",
    "\n",
    "#Parsing it to String datatype\n",
    "ds2=str(ds2)\n",
    "outf=open(\"Output2.txt\",\"w\")\n",
    "outf.write(ds2)\n",
    "outf.close()"
   ]
  }
 ],
 "metadata": {
  "kernelspec": {
   "display_name": "Python 3",
   "language": "python",
   "name": "python3"
  },
  "language_info": {
   "codemirror_mode": {
    "name": "ipython",
    "version": 3
   },
   "file_extension": ".py",
   "mimetype": "text/x-python",
   "name": "python",
   "nbconvert_exporter": "python",
   "pygments_lexer": "ipython3",
   "version": "3.7.0"
  }
 },
 "nbformat": 4,
 "nbformat_minor": 2
}
